{
 "cells": [
  {
   "cell_type": "code",
   "execution_count": 43,
   "metadata": {},
   "outputs": [],
   "source": [
    "import tensorflow as tf\n",
    "from tensorflow.keras.models import Sequential, Model\n",
    "from tensorflow.keras.layers import Dense, ReLU, Input\n",
    "from tensorflow.keras.optimizers import SGD\n",
    "from tensorflow.keras.losses import CategoricalCrossentropy\n",
    "from tensorflow.keras.callbacks import TensorBoard\n",
    "from tensorflow.keras.datasets.mnist import load_data\n",
    "\n",
    "import numpy as np"
   ]
  },
  {
   "cell_type": "code",
   "execution_count": 44,
   "metadata": {},
   "outputs": [],
   "source": [
    "seq_model = Sequential()\n",
    "seq_model.add(Dense(500,activation=\"relu\",input_shape=(784,)))\n",
    "seq_model.add(Dense(10,activation=\"softmax\"))"
   ]
  },
  {
   "cell_type": "code",
   "execution_count": 45,
   "metadata": {},
   "outputs": [
    {
     "name": "stdout",
     "output_type": "stream",
     "text": [
      "Model: \"sequential_1\"\n",
      "_________________________________________________________________\n",
      "Layer (type)                 Output Shape              Param #   \n",
      "=================================================================\n",
      "dense_4 (Dense)              (None, 500)               392500    \n",
      "_________________________________________________________________\n",
      "dropout (Dropout)            (None, 500)               0         \n",
      "_________________________________________________________________\n",
      "dense_5 (Dense)              (None, 10)                5010      \n",
      "=================================================================\n",
      "Total params: 397,510\n",
      "Trainable params: 397,510\n",
      "Non-trainable params: 0\n",
      "_________________________________________________________________\n"
     ]
    }
   ],
   "source": [
    "seq_model.summary()"
   ]
  },
  {
   "cell_type": "code",
   "execution_count": 7,
   "metadata": {},
   "outputs": [],
   "source": [
    "mnist = load_data(\"mnist.npz\")"
   ]
  },
  {
   "cell_type": "code",
   "execution_count": 29,
   "metadata": {},
   "outputs": [],
   "source": [
    "trainX, trainY = np.reshape(mnist[0][0],[-1,784]),np.eye(10)[mnist[0][1]]\n",
    "testX, testY = np.reshape(mnist[1][0],[-1,784]), np.eye(10)[mnist[1][1]] "
   ]
  },
  {
   "cell_type": "code",
   "execution_count": 46,
   "metadata": {},
   "outputs": [],
   "source": [
    "seq_model.compile(loss=CategoricalCrossentropy(),optimizer=SGD(learning_rate=0.005),metrics=\"accuracy\")"
   ]
  },
  {
   "cell_type": "code",
   "execution_count": 47,
   "metadata": {},
   "outputs": [
    {
     "name": "stdout",
     "output_type": "stream",
     "text": [
      "Epoch 1/10\n",
      "  2/600 [..............................] - ETA: 7:17 - loss: 895.2088 - accuracy: 0.0900WARNING:tensorflow:Callbacks method `on_train_batch_begin` is slow compared to the batch time (batch time: 0.0040s vs `on_train_batch_begin` time: 0.0472s). Check your callbacks.\n",
      "WARNING:tensorflow:Callbacks method `on_train_batch_end` is slow compared to the batch time (batch time: 0.0040s vs `on_train_batch_end` time: 1.3990s). Check your callbacks.\n",
      "600/600 [==============================] - 4s 7ms/step - loss: 17.1015 - accuracy: 0.5827 - val_loss: 0.7349 - val_accuracy: 0.8324\n",
      "Epoch 2/10\n",
      "600/600 [==============================] - 2s 4ms/step - loss: 0.9791 - accuracy: 0.7459 - val_loss: 0.5571 - val_accuracy: 0.8911\n",
      "Epoch 3/10\n",
      "600/600 [==============================] - 2s 4ms/step - loss: 0.7853 - accuracy: 0.7963 - val_loss: 0.4317 - val_accuracy: 0.8977\n",
      "Epoch 4/10\n",
      "600/600 [==============================] - 2s 4ms/step - loss: 0.6749 - accuracy: 0.8260 - val_loss: 0.3620 - val_accuracy: 0.9207\n",
      "Epoch 5/10\n",
      "600/600 [==============================] - 3s 4ms/step - loss: 0.6118 - accuracy: 0.8406 - val_loss: 0.3404 - val_accuracy: 0.9177\n",
      "Epoch 6/10\n",
      "600/600 [==============================] - 3s 4ms/step - loss: 0.5495 - accuracy: 0.8541 - val_loss: 0.3003 - val_accuracy: 0.9324\n",
      "Epoch 7/10\n",
      "600/600 [==============================] - 2s 4ms/step - loss: 0.5141 - accuracy: 0.8637 - val_loss: 0.3037 - val_accuracy: 0.9301\n",
      "Epoch 8/10\n",
      "600/600 [==============================] - 2s 4ms/step - loss: 0.5026 - accuracy: 0.8699 - val_loss: 0.3368 - val_accuracy: 0.9316\n",
      "Epoch 9/10\n",
      "600/600 [==============================] - 2s 4ms/step - loss: 0.4861 - accuracy: 0.8734 - val_loss: 0.3185 - val_accuracy: 0.9294\n",
      "Epoch 10/10\n",
      "600/600 [==============================] - 3s 4ms/step - loss: 0.4502 - accuracy: 0.8783 - val_loss: 0.2786 - val_accuracy: 0.9381\n"
     ]
    },
    {
     "data": {
      "text/plain": [
       "<tensorflow.python.keras.callbacks.History at 0x1cb68618048>"
      ]
     },
     "execution_count": 47,
     "metadata": {},
     "output_type": "execute_result"
    }
   ],
   "source": [
    "seq_model.fit(trainX,trainY,batch_size=100,epochs=10,validation_data=(testX,testY),callbacks=TensorBoard())"
   ]
  },
  {
   "cell_type": "code",
   "execution_count": 40,
   "metadata": {},
   "outputs": [],
   "source": [
    "input_tensor = Input(shape=(784,))\n",
    "x = Dense(500,activation=\"relu\")(input_tensor)\n",
    "output_tensor = Dense(10,activation=\"softmax\")(x)\n",
    "\n",
    "func_model = Model(input_tensor,output_tensor)"
   ]
  },
  {
   "cell_type": "code",
   "execution_count": 41,
   "metadata": {},
   "outputs": [
    {
     "name": "stdout",
     "output_type": "stream",
     "text": [
      "Model: \"functional_1\"\n",
      "_________________________________________________________________\n",
      "Layer (type)                 Output Shape              Param #   \n",
      "=================================================================\n",
      "input_1 (InputLayer)         [(None, 784)]             0         \n",
      "_________________________________________________________________\n",
      "dense_2 (Dense)              (None, 500)               392500    \n",
      "_________________________________________________________________\n",
      "dense_3 (Dense)              (None, 10)                5010      \n",
      "=================================================================\n",
      "Total params: 397,510\n",
      "Trainable params: 397,510\n",
      "Non-trainable params: 0\n",
      "_________________________________________________________________\n"
     ]
    }
   ],
   "source": [
    "func_model.summary()"
   ]
  },
  {
   "cell_type": "code",
   "execution_count": 42,
   "metadata": {},
   "outputs": [
    {
     "name": "stdout",
     "output_type": "stream",
     "text": [
      "Epoch 1/10\n",
      "  2/600 [..............................] - ETA: 7:02 - loss: 1090.7841 - accuracy: 0.1400WARNING:tensorflow:Callbacks method `on_train_batch_begin` is slow compared to the batch time (batch time: 0.0040s vs `on_train_batch_begin` time: 0.0160s). Check your callbacks.\n",
      "WARNING:tensorflow:Callbacks method `on_train_batch_end` is slow compared to the batch time (batch time: 0.0040s vs `on_train_batch_end` time: 1.3918s). Check your callbacks.\n",
      "600/600 [==============================] - 4s 7ms/step - loss: 10.2795 - accuracy: 0.8151 - val_loss: 0.3902 - val_accuracy: 0.8936\n",
      "Epoch 2/10\n",
      "600/600 [==============================] - 2s 4ms/step - loss: 0.3010 - accuracy: 0.9166 - val_loss: 0.2826 - val_accuracy: 0.9245\n",
      "Epoch 3/10\n",
      "600/600 [==============================] - 2s 4ms/step - loss: 0.2347 - accuracy: 0.9340 - val_loss: 0.2521 - val_accuracy: 0.9315\n",
      "Epoch 4/10\n",
      "600/600 [==============================] - 2s 4ms/step - loss: 0.1963 - accuracy: 0.9438 - val_loss: 0.2319 - val_accuracy: 0.9407\n",
      "Epoch 5/10\n",
      "600/600 [==============================] - 2s 4ms/step - loss: 0.1733 - accuracy: 0.9498 - val_loss: 0.2625 - val_accuracy: 0.9324\n",
      "Epoch 6/10\n",
      "600/600 [==============================] - 2s 4ms/step - loss: 0.1553 - accuracy: 0.9543 - val_loss: 0.2287 - val_accuracy: 0.9407\n",
      "Epoch 7/10\n",
      "600/600 [==============================] - 2s 4ms/step - loss: 0.1381 - accuracy: 0.9592 - val_loss: 0.2165 - val_accuracy: 0.9460\n",
      "Epoch 8/10\n",
      "600/600 [==============================] - 2s 4ms/step - loss: 0.1276 - accuracy: 0.9621 - val_loss: 0.2213 - val_accuracy: 0.9451\n",
      "Epoch 9/10\n",
      "600/600 [==============================] - 2s 4ms/step - loss: 0.1169 - accuracy: 0.9645 - val_loss: 0.2206 - val_accuracy: 0.9480\n",
      "Epoch 10/10\n",
      "600/600 [==============================] - 2s 4ms/step - loss: 0.1098 - accuracy: 0.9673 - val_loss: 0.2099 - val_accuracy: 0.9519\n"
     ]
    },
    {
     "data": {
      "text/plain": [
       "<tensorflow.python.keras.callbacks.History at 0x1cb64341cf8>"
      ]
     },
     "execution_count": 42,
     "metadata": {},
     "output_type": "execute_result"
    }
   ],
   "source": [
    "func_model.compile(loss=CategoricalCrossentropy(),optimizer=SGD(learning_rate=0.005),metrics=\"accuracy\")\n",
    "func_model.fit(trainX,trainY,batch_size=100,epochs=10,validation_data=(testX,testY),callbacks=TensorBoard())"
   ]
  }
 ],
 "metadata": {
  "kernelspec": {
   "display_name": "Python 3",
   "language": "python",
   "name": "python3"
  },
  "language_info": {
   "codemirror_mode": {
    "name": "ipython",
    "version": 3
   },
   "file_extension": ".py",
   "mimetype": "text/x-python",
   "name": "python",
   "nbconvert_exporter": "python",
   "pygments_lexer": "ipython3",
   "version": "3.6.5"
  }
 },
 "nbformat": 4,
 "nbformat_minor": 2
}
