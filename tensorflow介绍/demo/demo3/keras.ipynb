{
 "cells": [
  {
   "cell_type": "code",
   "execution_count": 1,
   "metadata": {},
   "outputs": [],
   "source": [
    "import tensorflow as tf\n",
    "import numpy as np\n",
    "from tensorflow.keras.datasets.mnist import load_data"
   ]
  },
  {
   "cell_type": "code",
   "execution_count": 152,
   "metadata": {},
   "outputs": [],
   "source": [
    "class MyDNN(tf.keras.Model):\n",
    "    def __init__(self):\n",
    "        super(MyDNN, self).__init__()\n",
    "        self.layer1 = tf.keras.layers.Dense(500,activation=\"relu\")\n",
    "        self.layer2 = tf.keras.layers.Dense(10,activation=\"softmax\")\n",
    "        self.accuracy_fn = tf.keras.metrics.CategoricalAccuracy()\n",
    "        self.loss_fn = tf.keras.losses.CategoricalCrossentropy()\n",
    "    \n",
    "    def call(self, input_data, training=None):\n",
    "        inputs, targets = input_data\n",
    "        x = self.layer1(inputs)\n",
    "        x = self.layer2(x)\n",
    "        \n",
    "        self.add_loss(self.loss_fn(targets,x))\n",
    "        \n",
    "        acc = self.accuracy_fn(targets, x)\n",
    "        self.add_metric(acc, name=\"accuracy\")\n",
    "        \n",
    "        return x"
   ]
  },
  {
   "cell_type": "code",
   "execution_count": 153,
   "metadata": {},
   "outputs": [],
   "source": [
    "model = MyDNN()"
   ]
  },
  {
   "cell_type": "code",
   "execution_count": 154,
   "metadata": {},
   "outputs": [],
   "source": [
    "mnist = load_data(\"mnist.npz\")\n",
    "trainX, trainY = np.reshape(mnist[0][0],[-1,784]).astype(np.float32),np.eye(10)[mnist[0][1]]\n",
    "testX, testY = np.reshape(mnist[1][0],[-1,784]).astype(np.float32), np.eye(10)[mnist[1][1]] "
   ]
  },
  {
   "cell_type": "code",
   "execution_count": 165,
   "metadata": {},
   "outputs": [
    {
     "name": "stdout",
     "output_type": "stream",
     "text": [
      "Epoch 1/20\n",
      "  2/600 [..............................] - ETA: 8:14 - loss: 0.0457 - categorical_accuracy: 0.9800WARNING:tensorflow:Callbacks method `on_train_batch_begin` is slow compared to the batch time (batch time: 0.0040s vs `on_train_batch_begin` time: 0.0180s). Check your callbacks.\n",
      "WARNING:tensorflow:Callbacks method `on_train_batch_end` is slow compared to the batch time (batch time: 0.0040s vs `on_train_batch_end` time: 1.6326s). Check your callbacks.\n",
      "600/600 [==============================] - 4s 6ms/step - loss: 0.1065 - categorical_accuracy: 0.9713\n",
      "Epoch 2/20\n",
      "600/600 [==============================] - 3s 4ms/step - loss: 0.1075 - categorical_accuracy: 0.9707\n",
      "Epoch 3/20\n",
      "600/600 [==============================] - 2s 4ms/step - loss: 0.1126 - categorical_accuracy: 0.9701\n",
      "Epoch 4/20\n",
      "600/600 [==============================] - 2s 3ms/step - loss: 0.0989 - categorical_accuracy: 0.9729\n",
      "Epoch 5/20\n",
      "600/600 [==============================] - 2s 3ms/step - loss: 0.1025 - categorical_accuracy: 0.9729\n",
      "Epoch 6/20\n",
      "600/600 [==============================] - 2s 3ms/step - loss: 0.1004 - categorical_accuracy: 0.9725\n",
      "Epoch 7/20\n",
      "600/600 [==============================] - 2s 3ms/step - loss: 0.0988 - categorical_accuracy: 0.9726\n",
      "Epoch 8/20\n",
      "600/600 [==============================] - 2s 3ms/step - loss: 0.1020 - categorical_accuracy: 0.9722\n",
      "Epoch 9/20\n",
      "600/600 [==============================] - 2s 3ms/step - loss: 0.0929 - categorical_accuracy: 0.9739\n",
      "Epoch 10/20\n",
      "600/600 [==============================] - 2s 4ms/step - loss: 0.0942 - categorical_accuracy: 0.9742\n",
      "Epoch 11/20\n",
      "600/600 [==============================] - 2s 3ms/step - loss: 0.0949 - categorical_accuracy: 0.9740\n",
      "Epoch 12/20\n",
      "600/600 [==============================] - 2s 3ms/step - loss: 0.0879 - categorical_accuracy: 0.9757\n",
      "Epoch 13/20\n",
      "600/600 [==============================] - 2s 3ms/step - loss: 0.0880 - categorical_accuracy: 0.9754\n",
      "Epoch 14/20\n",
      "600/600 [==============================] - 2s 3ms/step - loss: 0.0889 - categorical_accuracy: 0.9753\n",
      "Epoch 15/20\n",
      "600/600 [==============================] - 2s 3ms/step - loss: 0.0846 - categorical_accuracy: 0.9763\n",
      "Epoch 16/20\n",
      "600/600 [==============================] - 2s 3ms/step - loss: 0.0840 - categorical_accuracy: 0.9769\n",
      "Epoch 17/20\n",
      "600/600 [==============================] - 2s 4ms/step - loss: 0.0809 - categorical_accuracy: 0.9772\n",
      "Epoch 18/20\n",
      "600/600 [==============================] - 2s 3ms/step - loss: 0.0833 - categorical_accuracy: 0.9769\n",
      "Epoch 19/20\n",
      "600/600 [==============================] - 2s 4ms/step - loss: 0.0859 - categorical_accuracy: 0.9766\n",
      "Epoch 20/20\n",
      "600/600 [==============================] - 2s 4ms/step - loss: 0.0820 - categorical_accuracy: 0.9776\n"
     ]
    },
    {
     "data": {
      "text/plain": [
       "<tensorflow.python.keras.callbacks.History at 0x1cf52260fd0>"
      ]
     },
     "execution_count": 165,
     "metadata": {},
     "output_type": "execute_result"
    }
   ],
   "source": [
    "model.compile(optimizer=tf.keras.optimizers.SGD(learning_rate=0.01))\n",
    "model.fit((trainX,trainY), trainY,batch_size=100,epochs=20,callbacks=tf.keras.callbacks.TensorBoard())"
   ]
  },
  {
   "cell_type": "code",
   "execution_count": null,
   "metadata": {},
   "outputs": [],
   "source": []
  }
 ],
 "metadata": {
  "kernelspec": {
   "display_name": "Python 3",
   "language": "python",
   "name": "python3"
  },
  "language_info": {
   "codemirror_mode": {
    "name": "ipython",
    "version": 3
   },
   "file_extension": ".py",
   "mimetype": "text/x-python",
   "name": "python",
   "nbconvert_exporter": "python",
   "pygments_lexer": "ipython3",
   "version": "3.6.5"
  }
 },
 "nbformat": 4,
 "nbformat_minor": 2
}
