{
 "cells": [
  {
   "cell_type": "code",
   "execution_count": 1,
   "metadata": {},
   "outputs": [],
   "source": [
    "import tensorflow as tf\n",
    "from tensorflow.keras.models import Sequential, Model\n",
    "from tensorflow.keras.layers import Dense, ReLU, Input\n",
    "from tensorflow.keras.optimizers import SGD\n",
    "from tensorflow.keras.losses import CategoricalCrossentropy\n",
    "from tensorflow.keras.datasets.mnist import load_data\n",
    "\n",
    "import numpy as np\n",
    "import os\n",
    "import json"
   ]
  },
  {
   "cell_type": "code",
   "execution_count": 2,
   "metadata": {},
   "outputs": [],
   "source": [
    "def build_model():\n",
    "    seq_model = Sequential()\n",
    "    seq_model.add(Dense(500,activation=\"relu\",input_shape=(784,)))\n",
    "    seq_model.add(Dense(10,activation=\"softmax\"))\n",
    "    return seq_model"
   ]
  },
  {
   "cell_type": "code",
   "execution_count": 3,
   "metadata": {},
   "outputs": [],
   "source": [
    "os.environ['TF_CONFIG'] = json.dumps({\n",
    "    'cluster': {\n",
    "        'worker': [\"localhost:12345\", \"localhost:23456\"]\n",
    "    },\n",
    "    'task': {'type': 'worker', 'index': 0}\n",
    "})"
   ]
  },
  {
   "cell_type": "code",
   "execution_count": 4,
   "metadata": {},
   "outputs": [
    {
     "name": "stdout",
     "output_type": "stream",
     "text": [
      "INFO:tensorflow:Enabled multi-worker collective ops with available devices: ['/job:worker/replica:0/task:0/device:CPU:0', '/job:worker/replica:0/task:0/device:XLA_CPU:0']\n",
      "INFO:tensorflow:Using MirroredStrategy with devices ('/job:worker/task:0',)\n",
      "INFO:tensorflow:MultiWorkerMirroredStrategy with cluster_spec = {'worker': ['localhost:12345', 'localhost:23456']}, task_type = 'worker', task_id = 0, num_workers = 2, local_devices = ('/job:worker/task:0',), communication = CollectiveCommunication.AUTO\n"
     ]
    }
   ],
   "source": [
    "mm_strategy = tf.distribute.experimental.MultiWorkerMirroredStrategy()"
   ]
  },
  {
   "cell_type": "code",
   "execution_count": 5,
   "metadata": {},
   "outputs": [],
   "source": [
    "mnist = load_data(\"mnist.npz\")\n",
    "trainX, trainY = np.reshape(mnist[0][0],[-1,784]),np.eye(10)[mnist[0][1]]\n",
    "testX, testY = np.reshape(mnist[1][0],[-1,784]), np.eye(10)[mnist[1][1]] "
   ]
  },
  {
   "cell_type": "code",
   "execution_count": 6,
   "metadata": {},
   "outputs": [
    {
     "name": "stdout",
     "output_type": "stream",
     "text": [
      "INFO:tensorflow:Running Distribute Coordinator with mode = 'independent_worker', cluster_spec = {'worker': ['localhost:12345', 'localhost:23456']}, task_type = 'worker', task_id = 0, environment = None, rpc_layer = 'grpc'\n",
      "WARNING:tensorflow:`eval_fn` is not passed in. The `worker_fn` will be used if an \"evaluator\" task exists in the cluster.\n",
      "WARNING:tensorflow:`eval_strategy` is not passed in. No distribution strategy will be used for evaluation.\n",
      "INFO:tensorflow:Using MirroredStrategy with devices ('/job:worker/task:0',)\n",
      "INFO:tensorflow:MultiWorkerMirroredStrategy with cluster_spec = {'worker': ['localhost:12345', 'localhost:23456']}, task_type = 'worker', task_id = 0, num_workers = 2, local_devices = ('/job:worker/task:0',), communication = CollectiveCommunication.AUTO\n",
      "INFO:tensorflow:Using MirroredStrategy with devices ('/job:worker/task:0',)\n",
      "INFO:tensorflow:MultiWorkerMirroredStrategy with cluster_spec = {'worker': ['localhost:12345', 'localhost:23456']}, task_type = 'worker', task_id = 0, num_workers = 2, local_devices = ('/job:worker/task:0',), communication = CollectiveCommunication.AUTO\n",
      "Epoch 1/10\n",
      "WARNING:tensorflow:From c:\\users\\ljw_h\\appdata\\local\\programs\\python\\python36\\lib\\site-packages\\tensorflow\\python\\data\\ops\\multi_device_iterator_ops.py:601: get_next_as_optional (from tensorflow.python.data.ops.iterator_ops) is deprecated and will be removed in a future version.\n",
      "Instructions for updating:\n",
      "Use `tf.data.Iterator.get_next_as_optional()` instead.\n",
      "INFO:tensorflow:Collective batch_all_reduce: 1 all-reduces, num_devices = 1, group_size = 2, communication_hint = AUTO, num_packs = 1\n",
      "INFO:tensorflow:Collective batch_all_reduce: 4 all-reduces, num_devices = 1, group_size = 2, communication_hint = AUTO, num_packs = 1\n",
      "INFO:tensorflow:Collective batch_all_reduce: 1 all-reduces, num_devices = 1, group_size = 2, communication_hint = AUTO, num_packs = 1\n",
      "INFO:tensorflow:Collective batch_all_reduce: 1 all-reduces, num_devices = 1, group_size = 2, communication_hint = AUTO, num_packs = 1\n",
      "INFO:tensorflow:Collective batch_all_reduce: 1 all-reduces, num_devices = 1, group_size = 2, communication_hint = AUTO, num_packs = 1\n",
      "INFO:tensorflow:Collective batch_all_reduce: 1 all-reduces, num_devices = 1, group_size = 2, communication_hint = AUTO, num_packs = 1\n",
      "INFO:tensorflow:Collective batch_all_reduce: 1 all-reduces, num_devices = 1, group_size = 2, communication_hint = AUTO, num_packs = 1\n",
      "INFO:tensorflow:Collective batch_all_reduce: 4 all-reduces, num_devices = 1, group_size = 2, communication_hint = AUTO, num_packs = 1\n",
      "INFO:tensorflow:Collective batch_all_reduce: 1 all-reduces, num_devices = 1, group_size = 2, communication_hint = AUTO, num_packs = 1\n",
      "INFO:tensorflow:Collective batch_all_reduce: 1 all-reduces, num_devices = 1, group_size = 2, communication_hint = AUTO, num_packs = 1\n",
      "INFO:tensorflow:Collective batch_all_reduce: 1 all-reduces, num_devices = 1, group_size = 2, communication_hint = AUTO, num_packs = 1\n",
      "INFO:tensorflow:Collective batch_all_reduce: 1 all-reduces, num_devices = 1, group_size = 2, communication_hint = AUTO, num_packs = 1\n",
      "  1/600 [..............................] - ETA: 0s - loss: 116.1885 - accuracy: 0.1100WARNING:tensorflow:From c:\\users\\ljw_h\\appdata\\local\\programs\\python\\python36\\lib\\site-packages\\tensorflow\\python\\ops\\summary_ops_v2.py:1277: stop (from tensorflow.python.eager.profiler) is deprecated and will be removed after 2020-07-01.\n",
      "Instructions for updating:\n",
      "use `tf.profiler.experimental.stop` instead.\n",
      "  2/600 [..............................] - ETA: 3:23 - loss: 856.8194 - accuracy: 0.1650WARNING:tensorflow:Callbacks method `on_train_batch_end` is slow compared to the batch time (batch time: 0.0120s vs `on_train_batch_end` time: 0.6550s). Check your callbacks.\n",
      "600/600 [==============================] - 10s 16ms/step - loss: 9.4267 - accuracy: 0.8354 - val_loss: 0.4021 - val_accuracy: 0.8958\n",
      "Epoch 2/10\n",
      "600/600 [==============================] - 8s 13ms/step - loss: 0.2832 - accuracy: 0.9242 - val_loss: 0.2783 - val_accuracy: 0.9314\n",
      "Epoch 3/10\n",
      "600/600 [==============================] - 8s 14ms/step - loss: 0.2149 - accuracy: 0.9393 - val_loss: 0.2708 - val_accuracy: 0.9335\n",
      "Epoch 4/10\n",
      "600/600 [==============================] - 8s 13ms/step - loss: 0.1805 - accuracy: 0.9487 - val_loss: 0.2776 - val_accuracy: 0.9314\n",
      "Epoch 5/10\n",
      "600/600 [==============================] - 8s 14ms/step - loss: 0.1553 - accuracy: 0.9569 - val_loss: 0.2674 - val_accuracy: 0.9361\n",
      "Epoch 6/10\n",
      "600/600 [==============================] - 9s 14ms/step - loss: 0.1379 - accuracy: 0.9618 - val_loss: 0.2317 - val_accuracy: 0.9476\n",
      "Epoch 7/10\n",
      "600/600 [==============================] - 8s 14ms/step - loss: 0.1231 - accuracy: 0.9650 - val_loss: 0.2270 - val_accuracy: 0.9499\n",
      "Epoch 8/10\n",
      "600/600 [==============================] - 9s 14ms/step - loss: 0.1139 - accuracy: 0.9668 - val_loss: 0.2184 - val_accuracy: 0.9498\n",
      "Epoch 9/10\n",
      "600/600 [==============================] - 8s 14ms/step - loss: 0.1047 - accuracy: 0.9692 - val_loss: 0.2166 - val_accuracy: 0.9524\n",
      "Epoch 10/10\n",
      "600/600 [==============================] - 9s 14ms/step - loss: 0.0927 - accuracy: 0.9729 - val_loss: 0.2134 - val_accuracy: 0.9541\n"
     ]
    },
    {
     "data": {
      "text/plain": [
       "<tensorflow.python.keras.callbacks.History at 0x1f135366d68>"
      ]
     },
     "execution_count": 6,
     "metadata": {},
     "output_type": "execute_result"
    }
   ],
   "source": [
    "with mm_strategy.scope():\n",
    "    model = build_model()\n",
    "    model.compile(loss=CategoricalCrossentropy(),optimizer=SGD(learning_rate=0.005),metrics=\"accuracy\")\n",
    "model.fit(trainX,trainY,batch_size=100,epochs=10,validation_data=(testX,testY))"
   ]
  },
  {
   "cell_type": "code",
   "execution_count": null,
   "metadata": {},
   "outputs": [],
   "source": []
  }
 ],
 "metadata": {
  "kernelspec": {
   "display_name": "Python 3",
   "language": "python",
   "name": "python3"
  },
  "language_info": {
   "codemirror_mode": {
    "name": "ipython",
    "version": 3
   },
   "file_extension": ".py",
   "mimetype": "text/x-python",
   "name": "python",
   "nbconvert_exporter": "python",
   "pygments_lexer": "ipython3",
   "version": "3.6.5"
  }
 },
 "nbformat": 4,
 "nbformat_minor": 2
}
